{
 "cells": [
  {
   "cell_type": "code",
   "execution_count": 6,
   "metadata": {},
   "outputs": [
    {
     "name": "stdout",
     "output_type": "stream",
     "text": [
      "face photo colected\n"
     ]
    }
   ],
   "source": [
    "import numpy as np\n",
    "import cv2\n",
    "\n",
    "#starts the webcam\n",
    "cap = cv2.VideoCapture(0)\n",
    "count=0\n",
    "\n",
    "face_model = cv2.CascadeClassifier('haarcascade_frontalface_default.xml')\n",
    "\n",
    "#face crop function\n",
    "def face_crop_function(photo):\n",
    "    mono=cv2.cvtColor(photo,cv2.COLOR_BGR2GRAY)\n",
    "    face_photo= face_model.detectMultiScale(mono,1.3,5)\n",
    "    \n",
    "    if face_photo is ():\n",
    "        return None\n",
    "    \n",
    "    for (x,y,w,h) in face_photo:\n",
    "        cphoto=photo[y:y+h,x:x+w]\n",
    "        return cphoto\n",
    "\n",
    "#loop \n",
    "while True:\n",
    "    ret , frame = cap.read()\n",
    "    \n",
    "    if face_crop_function(frame) is not None:\n",
    "        count+=1\n",
    "        face=cv2.resize(face_crop_function(frame),(224,224))\n",
    "        file_dir='C://Users//hArSH//Desktop//MLOps//Adv CNN//face dataset'+ str(count) + '.jpg'\n",
    "        cv2.imwrite(file_dir,face)\n",
    "            \n",
    "        \n",
    "        cv2.putText(face,str(count),(50,50),cv2.FONT_ITALIC,1,(200,0,0),2)\n",
    "        cv2.imshow('IMAGE',face)\n",
    "        \n",
    "    else:\n",
    "        pass\n",
    "         \n",
    "    if cv2.waitKey(1) == 13 or count==100:\n",
    "        break\n",
    "cap.release()       \n",
    "cv2.destroyAllWindows()\n",
    "print(\"face photo colected\")"
   ]
  },
  {
   "cell_type": "code",
   "execution_count": null,
   "metadata": {},
   "outputs": [],
   "source": []
  },
  {
   "cell_type": "code",
   "execution_count": null,
   "metadata": {},
   "outputs": [],
   "source": []
  }
 ],
 "metadata": {
  "kernelspec": {
   "display_name": "Python 3",
   "language": "python",
   "name": "python3"
  },
  "language_info": {
   "codemirror_mode": {
    "name": "ipython",
    "version": 3
   },
   "file_extension": ".py",
   "mimetype": "text/x-python",
   "name": "python",
   "nbconvert_exporter": "python",
   "pygments_lexer": "ipython3",
   "version": "3.7.1"
  }
 },
 "nbformat": 4,
 "nbformat_minor": 2
}
